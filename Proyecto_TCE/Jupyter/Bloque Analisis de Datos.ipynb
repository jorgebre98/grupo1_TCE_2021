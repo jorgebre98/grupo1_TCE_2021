{
 "cells": [
  {
   "cell_type": "markdown",
   "id": "8b6ffeb3",
   "metadata": {},
   "source": [
    "### Instituto Tecnológico de Costa Rica\n",
    "\n",
    "#### Profesor: Sergio Arriola Valverde.\n",
    "\n",
    "#### Taller de Comunicaciones Electricas.\n",
    "\n",
    "Integrantes:\n",
    "- Jorge Andrés Brenes Alfaro.\n",
    "- Pablo César Calderón Piedra.\n",
    "- Kimberly María Carvajal Méndez.\n",
    "- Jason Steven Valverde Picado."
   ]
  },
  {
   "cell_type": "markdown",
   "id": "92739a5e",
   "metadata": {},
   "source": [
    "# Análisis Estadístico del set de datos\n",
    "\n",
    "Este bloque tiene como objetivo el modelar la adquisición de datos entre el monitor y el transmisor (TX). Dichos datos se encuentran en un excel a los cuales les fue añadido ruido. Este apartado se enfoca en realizar un **análisis estadístico** del conjunto de datos recopilados, para ello se llevo a cabo:\n",
    "- Cálculo de promedio y desviación estándar\n",
    "- Test de Anderson Darling\n",
    "- Histograma\n",
    "- Test de Grubbs\n",
    "- Diagrama de caja"
   ]
  },
  {
   "cell_type": "markdown",
   "id": "87fc2b32",
   "metadata": {},
   "source": [
    "### Importación de librerías"
   ]
  },
  {
   "cell_type": "code",
   "execution_count": 1,
   "id": "5888ee6f",
   "metadata": {},
   "outputs": [],
   "source": [
    "import pandas as pd\n",
    "import matplotlib.pyplot as plt\n",
    "import numpy as np\n",
    "import math\n",
    "import scipy.stats as stats\n",
    "from scipy.stats import anderson\n",
    "import time"
   ]
  },
  {
   "cell_type": "markdown",
   "id": "1324fad9",
   "metadata": {},
   "source": [
    "## Inicio de reloj"
   ]
  },
  {
   "cell_type": "code",
   "execution_count": 2,
   "id": "45081668",
   "metadata": {},
   "outputs": [],
   "source": [
    "start= time.time()"
   ]
  },
  {
   "cell_type": "markdown",
   "id": "9ca203ac",
   "metadata": {},
   "source": [
    "## 1.1 Extracción de datos"
   ]
  },
  {
   "cell_type": "code",
   "execution_count": 3,
   "id": "42e9c312",
   "metadata": {},
   "outputs": [],
   "source": [
    "Datos = pd.read_excel('Dataset.xlsx')  #Se leen los datos del archivo .xlsx\n",
    "\n",
    "Estadistica = Datos.describe()\n",
    "\n",
    "#**** Se convierten los valores a un array****\n",
    "Datos = Datos.values\n",
    "Estadistica = Estadistica.values\n",
    "\n",
    "#**** Se separan los valores del Tiempo y los BPM****\n",
    "Tiempo = Datos[:,0]  \n",
    "BPM = Datos[:,1]"
   ]
  },
  {
   "cell_type": "markdown",
   "id": "cac7f175",
   "metadata": {},
   "source": [
    "## 1.2 Cálculo de promedio, desviación estándar, mínimos, máximos y cantidad de muestras"
   ]
  },
  {
   "cell_type": "code",
   "execution_count": 4,
   "id": "c0bc40e8",
   "metadata": {},
   "outputs": [],
   "source": [
    "#Se calculan los promedios, desviaciones estándar del tiempo y los BPM.\n",
    "Promedio_t = Estadistica [1,0]\n",
    "Promedio_bpm = Estadistica [1,1]\n",
    "desv_t = Estadistica [3,0]\n",
    "desv_bpm = Estadistica [2,1]\n",
    "\n",
    "#Mínimos y máximos del tiempo y los BPM.\n",
    "BPM_min = Estadistica [3,1]\n",
    "BPM_max = Estadistica [7,1]\n",
    "Tiempo_min =  Estadistica [3,0]\n",
    "Tiempo_max = Estadistica [7,0]\n",
    "\n",
    "BPM_count = Estadistica [0,0] #Cantidad de muestras."
   ]
  },
  {
   "cell_type": "markdown",
   "id": "7baa8b63",
   "metadata": {},
   "source": [
    "<h3><center> BPM vs Tiempo (Gráfica de datos con ruido) </center></h3>"
   ]
  },
  {
   "cell_type": "code",
   "execution_count": 5,
   "id": "66794e85",
   "metadata": {
    "scrolled": false
   },
   "outputs": [
    {
     "data": {
      "image/png": "[encoded data removed]",
      "text/plain": [
       "<Figure size 432x288 with 1 Axes>"
      ]
     },
     "metadata": {
      "needs_background": "light"
     },
     "output_type": "display_data"
    }
   ],
   "source": [
    "plt.plot(Tiempo, BPM, color='red', linewidth=2)\n",
    "plt.title('BPM vs Tiempo')\n",
    "plt.xlabel('Tiempo (s)')\n",
    "plt.ylabel('BMP')\n",
    "plt.show()"
   ]
  },
  {
   "cell_type": "markdown",
   "id": "7d869abe",
   "metadata": {},
   "source": [
    "## 1.3 Test de Anderson Darling"
   ]
  },
  {
   "cell_type": "markdown",
   "id": "6e781631",
   "metadata": {},
   "source": [
    "El test de Anderson Darling mide que tán bien siguen los datos una distribución específica. Para determinar este estadístico se plantea la hipótesis a continuación:\n",
    "<h3><center> Hipótesis </center></h3>\n",
    "\n",
    "<center>- H0 = Los datos siguen una distribución normal.</center>\n",
    "<center>- H1 = Los datos no siguen una distribución normal.</center>"
   ]
  },
  {
   "cell_type": "code",
   "execution_count": 6,
   "id": "23844317",
   "metadata": {},
   "outputs": [
    {
     "name": "stdout",
     "output_type": "stream",
     "text": [
      "Valor p:  0.5779982094566378 \n",
      "Significancia:  0.05\n"
     ]
    }
   ],
   "source": [
    "dist='norm' #Se define distribución normal.\n",
    "[p, valor_critico, significancia]=anderson(BPM, dist)  #Función para el test de Anderson Darling.\n",
    "alpha=(significancia[2]/100)\n",
    "\n",
    "print(\"Valor p: \", p, \"\\nSignificancia: \", alpha)"
   ]
  },
  {
   "cell_type": "markdown",
   "id": "0a5972a3",
   "metadata": {},
   "source": [
    "## 1.4 Histograma"
   ]
  },
  {
   "cell_type": "code",
   "execution_count": 7,
   "id": "5ee9f946",
   "metadata": {},
   "outputs": [
    {
     "data": {
      "image/png": "[encoded data removed]",
      "text/plain": [
       "<Figure size 432x288 with 1 Axes>"
      ]
     },
     "metadata": {
      "needs_background": "light"
     },
     "output_type": "display_data"
    }
   ],
   "source": [
    "clases = math.ceil(np.sqrt(BPM_count))  #Determinación de clases del histograma.\n",
    "\n",
    "plt.hist(BPM, bins=clases, edgecolor='black', linewidth=1)\n",
    "plt.title('Histograma de BPM')\n",
    "plt.xlabel('BPM')\n",
    "plt.ylabel('Frecuecia')\n",
    "plt.show()"
   ]
  },
  {
   "cell_type": "markdown",
   "id": "2194e7fc",
   "metadata": {},
   "source": [
    "## 1.5 Test de Grubbs"
   ]
  },
  {
   "cell_type": "markdown",
   "id": "f7399c9c",
   "metadata": {},
   "source": [
    "El test de Grubbs es una prueba para identificar valores atípicos en un conjunto de datos.\n",
    "\n",
    "Código base y fórmulas extraídos de:\n",
    "B. Bahatt, \"outlier detection grubbs test and generalized esd test python\", 2019. [Online]\n",
    "Disponible en: https://github.com/bhattbhavesh91/outlier-detection-grubbs-test-and-generalized-esd-test-python/blob/master/grubbs-test-for-outliers.ipynb"
   ]
  },
  {
   "cell_type": "markdown",
   "id": "93678cae",
   "metadata": {},
   "source": [
    "#### Función para calcular el valor crítico de Grubbs\n",
    "El valor crítico de Grubbs se calcula como:\n",
    "$G_{critico} = \\frac{N-1}{\\sqrt{N}}\\sqrt{\\frac{(t_{\\alpha/2N,N-2})^2}{N-2 + (t_{\\alpha/2N,N-2})^2}}$"
   ]
  },
  {
   "cell_type": "code",
   "execution_count": 8,
   "id": "1978f13b",
   "metadata": {},
   "outputs": [],
   "source": [
    "def G_Critico(size, alpha):\n",
    "    t_dist = stats.t.ppf(1 - alpha / (2 * size), size - 2)\n",
    "    numerador = (size - 1) * np.sqrt(np.square(t_dist))\n",
    "    denominador = np.sqrt(size) * np.sqrt(size - 2 + np.square(t_dist))\n",
    "    valor_critico = numerador / denominador\n",
    "    return valor_critico"
   ]
  },
  {
   "cell_type": "markdown",
   "id": "d1da9ea0",
   "metadata": {},
   "source": [
    "El valor de Grubbs se calcula como:\n",
    "$G_{calculado}=\\frac{max|Y_i - \\bar{Y}|}{s}$"
   ]
  },
  {
   "cell_type": "code",
   "execution_count": 9,
   "id": "eb6ff603",
   "metadata": {},
   "outputs": [],
   "source": [
    "G = abs((BPM-Promedio_bpm)/desv_bpm)\n",
    "G_critico = G_Critico(BPM_count, alpha)"
   ]
  },
  {
   "cell_type": "markdown",
   "id": "464e73d6",
   "metadata": {},
   "source": [
    "### Datos Atípicos"
   ]
  },
  {
   "cell_type": "markdown",
   "id": "7e9bf0cd",
   "metadata": {},
   "source": [
    "Una vez determinado los valores del test de Grubbs necesarios se procede a corroborar si extisten valores atípicos"
   ]
  },
  {
   "cell_type": "code",
   "execution_count": 10,
   "id": "fd375069",
   "metadata": {},
   "outputs": [
    {
     "name": "stdout",
     "output_type": "stream",
     "text": [
      "Cantidad de Datos Atípicos:  0\n"
     ]
    }
   ],
   "source": [
    "cont = 0\n",
    "for i in range(int(BPM_count)):\n",
    "    if G[i] > G_critico:\n",
    "        print ('Dato atípico: ', BPM[i])\n",
    "        cont += 1\n",
    "print('Cantidad de Datos Atípicos: ', cont)"
   ]
  },
  {
   "cell_type": "markdown",
   "id": "5c745d31",
   "metadata": {},
   "source": [
    "## 1.6 Diagrama de caja (Boxplot)"
   ]
  },
  {
   "cell_type": "code",
   "execution_count": 11,
   "id": "197e5543",
   "metadata": {
    "scrolled": false
   },
   "outputs": [
    {
     "data": {
      "image/png": "[encoded data removed]",
      "text/plain": [
       "<Figure size 432x288 with 1 Axes>"
      ]
     },
     "metadata": {
      "needs_background": "light"
     },
     "output_type": "display_data"
    }
   ],
   "source": [
    "plt.boxplot(BPM)\n",
    "plt.title('Diagrama de caja de BPM')\n",
    "plt.ylabel('Valores de BPM')\n",
    "plt.show()"
   ]
  },
  {
   "cell_type": "markdown",
   "id": "ec6a6a43",
   "metadata": {},
   "source": [
    "## Fin del reloj. Tiempo de ejecución"
   ]
  },
  {
   "cell_type": "code",
   "execution_count": 12,
   "id": "1a8f42fa",
   "metadata": {},
   "outputs": [
    {
     "name": "stdout",
     "output_type": "stream",
     "text": [
      "\n",
      " Tiempo de ejecucion 1.7636938095092773\n"
     ]
    }
   ],
   "source": [
    "end= time.time()\n",
    "tiempo = end-start\n",
    "print('\\n Tiempo de ejecucion', tiempo)"
   ]
  }
 ],
 "metadata": {
  "kernelspec": {
   "display_name": "Python 3",
   "language": "python",
   "name": "python3"
  },
  "language_info": {
   "codemirror_mode": {
    "name": "ipython",
    "version": 3
   },
   "file_extension": ".py",
   "mimetype": "text/x-python",
   "name": "python",
   "nbconvert_exporter": "python",
   "pygments_lexer": "ipython3",
   "version": "3.8.8"
  }
 },
 "nbformat": 4,
 "nbformat_minor": 5
}
