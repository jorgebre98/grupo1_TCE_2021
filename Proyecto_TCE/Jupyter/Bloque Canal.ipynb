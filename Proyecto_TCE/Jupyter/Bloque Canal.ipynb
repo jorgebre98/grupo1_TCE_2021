{
 "cells": [
  {
   "cell_type": "markdown",
   "id": "de6d3cdb",
   "metadata": {},
   "source": [
    "### Instituto Tecnológico de Costa Rica\n",
    "\n",
    "#### Profesor: Sergio Arriola Valverde.\n",
    "\n",
    "#### Taller de Comunicaciones Electricas.\n",
    "\n",
    "Integrantes:\n",
    "- Jorge Andrés Brenes Alfaro.\n",
    "- Pablo César Calderón Piedra.\n",
    "- Kimberly María Carvajal Méndez.\n",
    "- Jason Steven Valverde Picado."
   ]
  },
  {
   "cell_type": "markdown",
   "id": "f5522c5c",
   "metadata": {},
   "source": [
    "# Simulación de Canal"
   ]
  },
  {
   "cell_type": "markdown",
   "id": "2f4be3d5",
   "metadata": {},
   "source": [
    "### Importación de librerías"
   ]
  },
  {
   "cell_type": "code",
   "execution_count": 1,
   "id": "302909c9",
   "metadata": {},
   "outputs": [],
   "source": [
    "import numpy as np\n",
    "import matplotlib.pyplot as plt\n",
    "import pandas as pd\n",
    "from pandas import ExcelWriter\n",
    "from numpy import sum,isrealobj,sqrt\n",
    "from numpy.random import standard_normal"
   ]
  },
  {
   "cell_type": "markdown",
   "id": "783dd583",
   "metadata": {},
   "source": [
    "### Adquisición de datos\n",
    "Se utiliza el documento de texto llamado Codigocompleto previamente guardado en el bloque de codificación, el cual contiene el código Hamming que se transmitirá hacia el canal."
   ]
  },
  {
   "cell_type": "code",
   "execution_count": 2,
   "id": "51b847fd",
   "metadata": {},
   "outputs": [],
   "source": [
    "f = open ('Codigocompleto.txt','r')\n",
    "mensajeTx = f.read()\n",
    "f.close()\n",
    "bits = np.array([int(mensajeTx[0])])\n",
    "for i in range(len(mensajeTx)-1):\n",
    "    a = np.array([[int(mensajeTx[i+1])]])\n",
    "    bits=np.concatenate((bits, a), axis=None)"
   ]
  },
  {
   "cell_type": "markdown",
   "id": "757a26e2",
   "metadata": {},
   "source": [
    "## Modelado de canal AGWN\n",
    "En este apartado se realiza la adición de ruido a la señal binaria enviada, el ruido está en función del SNR escogido por lo que se puede variar su afectación sobre el mensaje.\n",
    "\n",
    "Código base y fórmulas extraídos de: GaussianWaves, \"Simulate additive white Gaussian noise (AWGN) channel\", 2015. [Online] Disponible en: https://www.gaussianwaves.com/2015/06/how-to-generate-awgn-noise-in-matlaboctave-without-using-in-built-awgn-function/"
   ]
  },
  {
   "cell_type": "code",
   "execution_count": 3,
   "id": "ba8d6c13",
   "metadata": {
    "scrolled": true
   },
   "outputs": [],
   "source": [
    "SNRdB = np.arange(0,15,0.1)\n",
    "BER= []\n",
    "hammingn = 15\n",
    "for snrdb in SNRdB:\n",
    "    gamma = 10**(snrdb/10)\n",
    "    if bits.ndim==1:\n",
    "        P=sum(abs(bits)**2)/len(bits)\n",
    "    else:\n",
    "        P=sum(sum(abs(bits)**2))/len(bits) \n",
    "    N0=P/gamma\n",
    "    if isrealobj(bits):\n",
    "        n = sqrt(N0/2)*standard_normal(bits.shape)\n",
    "    else:\n",
    "        n = sqrt(N0/2)*(standard_normal(bits.shape)+1j*standard_normal(bits.shape))\n",
    "    mensajeRx = bits + n\n",
    "    \n",
    "    mensajedetectado = []\n",
    "    errores=0\n",
    "    for j in range(len(mensajeRx)):\n",
    "        if mensajeRx[j] >= 0.5:\n",
    "            mensajedetectado.append(1)\n",
    "        else:\n",
    "            mensajedetectado.append(0)\n",
    "        if int(mensajeTx[j]) != mensajedetectado[j]:\n",
    "            errores +=1\n",
    "    BER.append(errores/len(mensajeTx))\n",
    "    \n",
    "print('Mensaje Tx', '   \\t', 'Mensaje Rx')\n",
    "for i in range(len(mensajeRx)):\n",
    "    print(mensajeTx[i], '\\t \\t', mensajeRx[i])"
   ]
  },
  {
   "cell_type": "markdown",
   "id": "bb7b6a30",
   "metadata": {},
   "source": [
    "### Guardado se datos importantes\n",
    "Se crea el documento de Excel llamado \"Señal con Ruido\" para guardar el mensaje que recibirá el receptor. También se crea el documento de texto llamado \"BER\" con el cual se obtienen la cantidad de errores dependiendo del SNR dado."
   ]
  },
  {
   "cell_type": "code",
   "execution_count": 4,
   "id": "8166a971",
   "metadata": {},
   "outputs": [],
   "source": [
    "df = pd.DataFrame({'Señal con ruido': mensajeRx})\n",
    "writer = ExcelWriter('Señal con ruido.xlsx')\n",
    "df.to_excel(writer, 'Señal', index=False)\n",
    "writer.save()\n",
    "\n",
    "if hammingn == 7:\n",
    "    df = pd.DataFrame({'SNR': SNRdB, 'BER': BER})\n",
    "    writer = ExcelWriter('BER.xlsx')\n",
    "    df.to_excel(writer, 'BER', index=False)\n",
    "    writer.save()\n",
    "else:\n",
    "    df = pd.DataFrame({'SNR': SNRdB, 'BER2': BER})\n",
    "    writer = ExcelWriter('BER2.xlsx')\n",
    "    df.to_excel(writer, 'BER', index=False)\n",
    "    writer.save()"
   ]
  },
  {
   "cell_type": "code",
   "execution_count": 5,
   "id": "98871e28",
   "metadata": {},
   "outputs": [
    {
     "data": {
      "image/png": "[encoded data removed]",
      "text/plain": [
       "<Figure size 432x288 with 1 Axes>"
      ]
     },
     "metadata": {
      "needs_background": "light"
     },
     "output_type": "display_data"
    }
   ],
   "source": [
    "plt.plot(SNRdB, BER, color='red', linewidth=2)\n",
    "plt.title('BER con respecto al SNR')\n",
    "plt.xlabel('SNR (dB)')\n",
    "plt.ylim([0.0001,1])\n",
    "plt.ylabel('BER')\n",
    "plt.yscale('log')\n",
    "plt.show()"
   ]
  },
  {
   "cell_type": "code",
   "execution_count": null,
   "id": "b19c7ba1",
   "metadata": {},
   "outputs": [],
   "source": []
  }
 ],
 "metadata": {
  "kernelspec": {
   "display_name": "Python 3",
   "language": "python",
   "name": "python3"
  },
  "language_info": {
   "codemirror_mode": {
    "name": "ipython",
    "version": 3
   },
   "file_extension": ".py",
   "mimetype": "text/x-python",
   "name": "python",
   "nbconvert_exporter": "python",
   "pygments_lexer": "ipython3",
   "version": "3.8.8"
  }
 },
 "nbformat": 4,
 "nbformat_minor": 5
}
