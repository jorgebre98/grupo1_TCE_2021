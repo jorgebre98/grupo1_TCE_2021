{
 "cells": [
  {
   "cell_type": "markdown",
   "id": "9c19f63f",
   "metadata": {},
   "source": [
    "### Instituto Tecnológico de Costa Rica\n",
    "\n",
    "#### Profesor: Sergio Arriola Valverde.\n",
    "\n",
    "#### Taller de Comunicaciones Electricas.\n",
    "\n",
    "Integrantes:\n",
    "- Jorge Andrés Brenes Alfaro.\n",
    "- Pablo César Calderón Piedra.\n",
    "- Kimberly María Carvajal Méndez.\n",
    "- Jason Steven Valverde Picado."
   ]
  },
  {
   "cell_type": "markdown",
   "id": "02156280",
   "metadata": {},
   "source": [
    "# Bloque Decodificador"
   ]
  },
  {
   "cell_type": "markdown",
   "id": "1fbb320a",
   "metadata": {},
   "source": [
    "Este bloque tiene como objetivo implementar la decodificación, detección y corrección de errores del mensaje transmitido."
   ]
  },
  {
   "cell_type": "markdown",
   "id": "633f6766",
   "metadata": {},
   "source": [
    "### Importación de Librerías"
   ]
  },
  {
   "cell_type": "code",
   "execution_count": 1,
   "id": "d8a1ffab",
   "metadata": {},
   "outputs": [],
   "source": [
    "import pandas as pd\n",
    "import os\n",
    "from pandas import ExcelWriter\n",
    "import matplotlib.pyplot as plt\n",
    "import numpy as np\n",
    "import math\n",
    "import scipy.stats as stats\n",
    "import time"
   ]
  },
  {
   "cell_type": "markdown",
   "id": "f164c61e",
   "metadata": {},
   "source": [
    "## Inicio del Reloj"
   ]
  },
  {
   "cell_type": "code",
   "execution_count": 2,
   "id": "461fac5c",
   "metadata": {},
   "outputs": [],
   "source": [
    "start= time.time()"
   ]
  },
  {
   "cell_type": "markdown",
   "id": "20498241",
   "metadata": {},
   "source": [
    "## Adquisición de Datos"
   ]
  },
  {
   "cell_type": "markdown",
   "id": "34e57269",
   "metadata": {},
   "source": [
    "Para el proceso de adquisición de datos se utiliza el archivo Señal con ruido.xlsx para obtener los datos provenientes del canal, además de utilizar los archivos Codigocompleto.txt y Codigooriginal.txt para la definición de algunas variables."
   ]
  },
  {
   "cell_type": "code",
   "execution_count": 3,
   "id": "8e191492",
   "metadata": {},
   "outputs": [],
   "source": [
    "hammingn = 15\n",
    "hammingk= 11\n",
    "mensajeRx = pd.read_excel('Señal con ruido.xlsx')\n",
    "count = mensajeRx.values\n",
    "mensajeRx = count[:,0]\n",
    "f = open ('Codigocompleto.txt','r')\n",
    "mensajeTx = f.read()\n",
    "f.close()\n",
    "\n",
    "f = open ('Codigooriginal.txt','r')\n",
    "senaloriginal = f.read()\n",
    "f.close()"
   ]
  },
  {
   "cell_type": "markdown",
   "id": "8305862f",
   "metadata": {},
   "source": [
    "## Comprobación de errores."
   ]
  },
  {
   "cell_type": "markdown",
   "id": "4ea73f49",
   "metadata": {},
   "source": [
    "Se realiza una comprobación previa de la cantidad de erroes provenientes del mensaje del canal."
   ]
  },
  {
   "cell_type": "code",
   "execution_count": 4,
   "id": "c84aa85b",
   "metadata": {},
   "outputs": [
    {
     "name": "stdout",
     "output_type": "stream",
     "text": [
      "Errores encontrados:  0\n"
     ]
    }
   ],
   "source": [
    "mensajedetectado = []\n",
    "errores=0\n",
    "for j in range(len(mensajeRx)):\n",
    "    if mensajeRx[j] >= 0.5:\n",
    "        mensajedetectado.append(1)\n",
    "    else:\n",
    "        mensajedetectado.append(0)\n",
    "    \n",
    "    if int(mensajeTx[j]) != mensajedetectado[j]:\n",
    "        errores +=1\n",
    "print('Errores encontrados: ', errores)"
   ]
  },
  {
   "cell_type": "code",
   "execution_count": 5,
   "id": "399a31fb",
   "metadata": {},
   "outputs": [],
   "source": [
    "databin = []\n",
    "i=0\n",
    "while i < len(mensajedetectado):\n",
    "    binario= []\n",
    "    for j in range(hammingn):\n",
    "        binario.append(str(mensajedetectado[i+j]))\n",
    "    sep = ''\n",
    "    cadena=sep.join(binario)\n",
    "    databin.append(cadena)\n",
    "    i = i+hammingn"
   ]
  },
  {
   "cell_type": "markdown",
   "id": "999698bf",
   "metadata": {},
   "source": [
    "## Decodificación Hamming\n",
    "Se realiza la decodificación hamming 7-4 o 15-11 para la corrección de errores, según la codificación que se haya empleado."
   ]
  },
  {
   "cell_type": "code",
   "execution_count": 6,
   "id": "9b973e63",
   "metadata": {},
   "outputs": [],
   "source": [
    "deco = []\n",
    "#Decodificación Hamming 7-4\n",
    "for i in range(len(databin)):\n",
    "    codigo = (databin[i])\n",
    "    palabradeco = []\n",
    "    b4 = int(codigo[4])\n",
    "    b2 = int(codigo[2])\n",
    "    b1 = int(codigo[1])\n",
    "    b0 = int(codigo[0])\n",
    "    P_1 = int(codigo[0]) ^ int(codigo[2]) ^ int(codigo[4])\n",
    "    P_2 = int(codigo[0]) ^ int(codigo[1]) ^ int(codigo[4])\n",
    "    P_3 = int(codigo[0]) ^ int(codigo[1]) ^ int(codigo[2])\n",
    "    errorlist = []\n",
    "    if hammingn == 7:\n",
    "        if P_1 == int(codigo[6]):\n",
    "            errorlist.append('0')\n",
    "        else:\n",
    "            errorlist.append('1')\n",
    "        if P_2 == int(codigo[5]):\n",
    "            errorlist.append('0')\n",
    "        else:\n",
    "            errorlist.append('1')\n",
    "        if P_3 == int(codigo[3]):\n",
    "            errorlist.append('0')\n",
    "        else:\n",
    "            errorlist.append('1')\n",
    "        sep = ''\n",
    "        errores=sep.join(errorlist)\n",
    "        if errores == '110':\n",
    "            if b4 == 1:\n",
    "                b4 = 0\n",
    "            else:\n",
    "                b4 = 1\n",
    "        if errores == '101':\n",
    "            if b2 == 1:\n",
    "                b2 = 0\n",
    "            else:\n",
    "                b2 = 1\n",
    "        if errores == '011':\n",
    "            if b1 == 1:\n",
    "                b1 = 0\n",
    "            else:\n",
    "                b1 = 1\n",
    "        if errores == '111':\n",
    "            if b0 == 1:\n",
    "                b0 =0\n",
    "            else: \n",
    "                b0 = 1\n",
    "        palabradeco.append(str(b0))\n",
    "        palabradeco.append(str(b1))\n",
    "        palabradeco.append(str(b2))\n",
    "        palabradeco.append(str(b4)) \n",
    "        \n",
    "    #Decodificación Hamming 15-11       \n",
    "    if hammingn == 15:\n",
    "        P_1 = P_1 ^ int(codigo[6]) ^ int(codigo[8]) ^ int(codigo[10]) ^ int(codigo[12])\n",
    "        P_2 = P_2 ^ int(codigo[5]) ^ int(codigo[8]) ^ int(codigo[9]) ^ int(codigo[12])\n",
    "        P_3 = P_3 ^ int(codigo[3]) ^ int(codigo[8]) ^ int(codigo[9]) ^ int(codigo[10])\n",
    "        P_4 = int(codigo[0]) ^ int(codigo[1]) ^ int(codigo[2]) ^ int(codigo[3]) ^ int(codigo[4]) ^ int(codigo[5]) ^ int(codigo[6])\n",
    "        b11 = int(codigo[12])\n",
    "        b10 = int(codigo[10])\n",
    "        b9 = int(codigo[9])\n",
    "        b8 = int(codigo[8])\n",
    "        b7 = int(codigo[6])\n",
    "        b6 = int(codigo[5])\n",
    "        b5 = int(codigo[4])\n",
    "        b4 = int(codigo[3])\n",
    "        b3 = int(codigo[2])\n",
    "        b2 = int(codigo[1])\n",
    "        b1 = int(codigo[0])\n",
    "        \n",
    "        if P_1 == int(codigo[14]):\n",
    "            errorlist.append('0')\n",
    "        else:\n",
    "            errorlist.append('1')\n",
    "        if P_2 == int(codigo[13]):\n",
    "            errorlist.append('0')\n",
    "        else:\n",
    "            errorlist.append('1')\n",
    "        if P_3 == int(codigo[11]):\n",
    "            errorlist.append('0')\n",
    "        else:\n",
    "            errorlist.append('1')\n",
    "        if P_4 == int(codigo[7]):\n",
    "            errorlist.append('0')\n",
    "        else: \n",
    "            errorlist.append('1')\n",
    "            \n",
    "            \n",
    "        sep = ''\n",
    "        errores=sep.join(errorlist)\n",
    "        \n",
    "        if errores == '1111':\n",
    "            if b1 == 1:\n",
    "                b1 = 0\n",
    "            else:\n",
    "                b1 = 1\n",
    "                \n",
    "        if errores == '0111':\n",
    "            if b2 == 1:\n",
    "                b2 = 0\n",
    "            else:\n",
    "                b2 = 1\n",
    "                \n",
    "        if errores == '1011':\n",
    "            if b3 == 1:\n",
    "                b3 = 0\n",
    "            else:\n",
    "                b3 = 1 \n",
    "                \n",
    "        if errores == '0011':\n",
    "            if b4 == 1:\n",
    "                b4 = 0\n",
    "            else:\n",
    "                b4 = 1\n",
    "                \n",
    "        if errores == '1101':\n",
    "            if b5 == 1:\n",
    "                b5 = 0\n",
    "            else:\n",
    "                b5 = 1\n",
    "        if errores == '0101':\n",
    "            if b6 == 1:\n",
    "                b6 = 0\n",
    "            else:\n",
    "                b6 = 1\n",
    "                \n",
    "        if errores == '1001':\n",
    "            if b7 == 1:\n",
    "                b7 = 0\n",
    "            else:\n",
    "                b7 = 1\n",
    "        \n",
    "        if errores == '1110':\n",
    "            if b8 == 1:\n",
    "                b8 = 0\n",
    "            else:\n",
    "                b8 = 1\n",
    "                \n",
    "        if errores == '0110':\n",
    "            if b9 == 1:\n",
    "                b9 = 0\n",
    "            else:\n",
    "                b9 = 1\n",
    "                \n",
    "        if errores == '1010':\n",
    "            if b10 == 1:\n",
    "                b10 = 0\n",
    "            else:\n",
    "                b10 = 1\n",
    "                \n",
    "        if errores == '1100':\n",
    "            if b11 == 1:\n",
    "                b11 =0\n",
    "            else: \n",
    "                b11 = 1\n",
    "                \n",
    "        palabradeco.append(str(b1))\n",
    "        palabradeco.append(str(b2))\n",
    "        palabradeco.append(str(b3)) \n",
    "        palabradeco.append(str(b4))\n",
    "        palabradeco.append(str(b5)) \n",
    "        palabradeco.append(str(b6)) \n",
    "        palabradeco.append(str(b7)) \n",
    "        palabradeco.append(str(b8)) \n",
    "        palabradeco.append(str(b9)) \n",
    "        palabradeco.append(str(b10)) \n",
    "        palabradeco.append(str(b11))\n",
    "    \n",
    "    sep = ''\n",
    "    cadena2=sep.join(palabradeco)\n",
    "    deco.append(cadena2)"
   ]
  },
  {
   "cell_type": "markdown",
   "id": "b6cd6bd4",
   "metadata": {},
   "source": [
    "## Errores encontrados después de la corrección"
   ]
  },
  {
   "cell_type": "code",
   "execution_count": 7,
   "id": "e17efd9a",
   "metadata": {},
   "outputs": [
    {
     "name": "stdout",
     "output_type": "stream",
     "text": [
      "Errores encontrados:  0\n"
     ]
    }
   ],
   "source": [
    "errores=0\n",
    "j=0\n",
    "g=0\n",
    "l=0\n",
    "deco2=[]\n",
    "deco3=[]\n",
    "for g in range(len(deco)):\n",
    "    for p in range(hammingk):\n",
    "        deco2.append(deco[g][p])\n",
    "        sep = ''\n",
    "        deco3=sep.join(deco2)\n",
    "while j < len(senaloriginal):\n",
    "    if int(senaloriginal[j]) != int(deco3[j]):\n",
    "        errores +=1\n",
    "    j = j+1\n",
    "print('Errores encontrados: ', errores)\n"
   ]
  },
  {
   "cell_type": "markdown",
   "id": "2adcc9bc",
   "metadata": {},
   "source": [
    "## Conversión de datos binarios a decimal"
   ]
  },
  {
   "cell_type": "code",
   "execution_count": 8,
   "id": "179153a1",
   "metadata": {},
   "outputs": [],
   "source": [
    "dato=[]\n",
    "dato2=[]\n",
    "datodecimal=[]\n",
    "decoarray=[]\n",
    "k=0\n",
    "r=0\n",
    "sep = ''\n",
    "arraydeco=sep.join(deco)\n",
    "decoarray.append(arraydeco)\n",
    "while k < len(decoarray[0]):\n",
    "    palabradato=[]\n",
    "    palabradato2=[]\n",
    "    if k+8 <= len(decoarray[0]):\n",
    "        for l in range(8):\n",
    "            palabradato.append(decoarray[0][k+l])\n",
    "        sep = ''\n",
    "        arraypalabra=sep.join(palabradato)\n",
    "        palabradato2.append(arraypalabra)\n",
    "        dato.append(palabradato2)\n",
    "    k+=8\n",
    "for i in range(len(dato)):\n",
    "    datodecimal.append(int(str(dato[i][0]), 2))\n",
    "df = pd.DataFrame({'Datos Recibidos': datodecimal})\n",
    "writer = ExcelWriter('Datadeco.xlsx')\n",
    "df.to_excel(writer, 'datos', index=False)\n",
    "writer.save()"
   ]
  },
  {
   "cell_type": "markdown",
   "id": "499d6e9a",
   "metadata": {},
   "source": [
    "## Finalización del conteo de tiempo de ejecución"
   ]
  },
  {
   "cell_type": "code",
   "execution_count": 9,
   "id": "488b6784",
   "metadata": {},
   "outputs": [
    {
     "name": "stdout",
     "output_type": "stream",
     "text": [
      "\n",
      " Tiempo de ejecucion 0.8147671222686768\n"
     ]
    }
   ],
   "source": [
    "end= time.time()\n",
    "tiempo = end-start\n",
    "print('\\n Tiempo de ejecucion', tiempo)"
   ]
  }
 ],
 "metadata": {
  "kernelspec": {
   "display_name": "Python 3",
   "language": "python",
   "name": "python3"
  },
  "language_info": {
   "codemirror_mode": {
    "name": "ipython",
    "version": 3
   },
   "file_extension": ".py",
   "mimetype": "text/x-python",
   "name": "python",
   "nbconvert_exporter": "python",
   "pygments_lexer": "ipython3",
   "version": "3.8.8"
  }
 },
 "nbformat": 4,
 "nbformat_minor": 5
}
