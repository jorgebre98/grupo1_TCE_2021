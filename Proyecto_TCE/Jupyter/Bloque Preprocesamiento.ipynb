{
 "cells": [
  {
   "cell_type": "markdown",
   "id": "0ac88788",
   "metadata": {},
   "source": [
    "### Instituto Tecnológico de Costa Rica\n",
    "\n",
    "#### Profesor: Sergio Arriola Valverde.\n",
    "\n",
    "#### Taller de Comunicaciones Electricas.\n",
    "\n",
    "Integrantes:\n",
    "- Jorge Andrés Brenes Alfaro.\n",
    "- Pablo César Calderón Piedra.\n",
    "- Kimberly María Carvajal Méndez.\n",
    "- Jason Steven Valverde Picado."
   ]
  },
  {
   "cell_type": "markdown",
   "id": "9a8593be",
   "metadata": {},
   "source": [
    "# Preprocesamiento del set de datos\n"
   ]
  },
  {
   "cell_type": "markdown",
   "id": "59d13bcd",
   "metadata": {},
   "source": [
    "## Importación de librerías"
   ]
  },
  {
   "cell_type": "code",
   "execution_count": 1,
   "id": "20652b9c",
   "metadata": {},
   "outputs": [],
   "source": [
    "import pandas as pd\n",
    "import matplotlib.pyplot as plt\n",
    "import numpy as np\n",
    "import math\n",
    "import scipy.stats as stats\n",
    "import time"
   ]
  },
  {
   "cell_type": "markdown",
   "id": "45ef893c",
   "metadata": {},
   "source": [
    "## Inicialización de reloj"
   ]
  },
  {
   "cell_type": "code",
   "execution_count": 2,
   "id": "382a5744",
   "metadata": {},
   "outputs": [],
   "source": [
    "start= time.time()"
   ]
  },
  {
   "cell_type": "markdown",
   "id": "edb96506",
   "metadata": {},
   "source": [
    "## Extracción de datos del archivo Excel"
   ]
  },
  {
   "cell_type": "code",
   "execution_count": 3,
   "id": "4b271d73",
   "metadata": {},
   "outputs": [],
   "source": [
    "Datos= pd.read_excel('Dataset.xlsx')"
   ]
  },
  {
   "cell_type": "markdown",
   "id": "72ed0771",
   "metadata": {},
   "source": [
    "## Filtrado de señal"
   ]
  },
  {
   "cell_type": "markdown",
   "id": "fe5192df",
   "metadata": {},
   "source": [
    " Se utiliza el método de filtrado Moving Average con la topología Simple Moving Average, con una magnitud de window de 3. El resultado se guarda en un documento de excel llamado Senalfiltrada.xlsx."
   ]
  },
  {
   "cell_type": "code",
   "execution_count": 4,
   "id": "2e54d746",
   "metadata": {},
   "outputs": [],
   "source": [
    "Datos['BPMfilter'] = Datos.BPM.rolling(window= 3, min_periods=1).mean()\n",
    "Datos.to_excel(\"Senalfiltrada.xlsx\", sheet_name='BPM')"
   ]
  },
  {
   "cell_type": "markdown",
   "id": "73067119",
   "metadata": {},
   "source": [
    "## Definición de variables "
   ]
  },
  {
   "cell_type": "markdown",
   "id": "c9eb9091",
   "metadata": {},
   "source": [
    "El vector BPM corresponden a los datos sin ningún tipo de modificación\n",
    "El vector BPMfilter corresponde a los datos ya filtrados."
   ]
  },
  {
   "cell_type": "code",
   "execution_count": 5,
   "id": "bee14298",
   "metadata": {},
   "outputs": [],
   "source": [
    "Datos = Datos.values\n",
    "Tiempo = Datos[:,0] \n",
    "BPM = Datos[:,1]\n",
    "BPMfilter = Datos[:,2]"
   ]
  },
  {
   "cell_type": "markdown",
   "id": "2a39416c",
   "metadata": {},
   "source": [
    "## Gráfica de señal original y señal filtrada"
   ]
  },
  {
   "cell_type": "markdown",
   "id": "3cca9982",
   "metadata": {},
   "source": [
    "La línea azul hace referencia a los datos originales y la línea roja corresponde a la señal filtrada."
   ]
  },
  {
   "cell_type": "code",
   "execution_count": 6,
   "id": "8499d0e9",
   "metadata": {},
   "outputs": [
    {
     "data": {
      "image/png": "[encoded data removed]",
      "text/plain": [
       "<Figure size 432x288 with 1 Axes>"
      ]
     },
     "metadata": {
      "needs_background": "light"
     },
     "output_type": "display_data"
    }
   ],
   "source": [
    "fig, ax = plt.subplots()\n",
    "ax.plot(Tiempo, BPM, color='blue', linewidth=2)\n",
    "ax.plot(Tiempo, BPMfilter, color='red', linewidth=2) \n",
    "ax.legend([\"Señal con ruido\",\"Señal Filtrada\"])\n",
    "plt.title('BPM vs Tiempo')\n",
    "plt.xlabel('Tiempo (s)')\n",
    "plt.ylabel('BMP')\n",
    "plt.show()"
   ]
  },
  {
   "cell_type": "markdown",
   "id": "df42d0e7",
   "metadata": {},
   "source": [
    "## Finalización del conteo de tiempo de ejecución"
   ]
  },
  {
   "cell_type": "code",
   "execution_count": 7,
   "id": "0a290455",
   "metadata": {},
   "outputs": [
    {
     "name": "stdout",
     "output_type": "stream",
     "text": [
      "1.0578491687774658\n"
     ]
    }
   ],
   "source": [
    "end=time.time()\n",
    "print(end-start)"
   ]
  }
 ],
 "metadata": {
  "kernelspec": {
   "display_name": "Python 3",
   "language": "python",
   "name": "python3"
  },
  "language_info": {
   "codemirror_mode": {
    "name": "ipython",
    "version": 3
   },
   "file_extension": ".py",
   "mimetype": "text/x-python",
   "name": "python",
   "nbconvert_exporter": "python",
   "pygments_lexer": "ipython3",
   "version": "3.8.8"
  }
 },
 "nbformat": 4,
 "nbformat_minor": 5
}
