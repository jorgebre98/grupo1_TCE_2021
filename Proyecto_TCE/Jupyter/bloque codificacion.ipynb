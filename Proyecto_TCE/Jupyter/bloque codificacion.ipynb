{
 "cells": [
  {
   "cell_type": "markdown",
   "id": "61d673d9",
   "metadata": {},
   "source": [
    "### Instituto Tecnológico de Costa Rica\n",
    "\n",
    "#### Profesor: Sergio Arriola Valverde.\n",
    "\n",
    "#### Taller de Comunicaciones Electricas.\n",
    "\n",
    "Integrantes:\n",
    "- Jorge Andrés Brenes Alfaro.\n",
    "- Pablo César Calderón Piedra.\n",
    "- Kimberly María Carvajal Méndez.\n",
    "- Jason Steven Valverde Picado."
   ]
  },
  {
   "cell_type": "markdown",
   "id": "57dd512f",
   "metadata": {},
   "source": [
    "# Codificación de datos | Hamming"
   ]
  },
  {
   "cell_type": "markdown",
   "id": "2f62d4b1",
   "metadata": {},
   "source": [
    "## Importación de librerías"
   ]
  },
  {
   "cell_type": "code",
   "execution_count": 1,
   "id": "4f716c53",
   "metadata": {},
   "outputs": [],
   "source": [
    "import pandas as pd\n",
    "from pandas import ExcelWriter\n",
    "import matplotlib.pyplot as plt\n",
    "import numpy as np\n",
    "import math\n",
    "import scipy.stats as stats\n",
    "import time"
   ]
  },
  {
   "cell_type": "markdown",
   "id": "05ac8f58",
   "metadata": {},
   "source": [
    "## Inicialización de reloj"
   ]
  },
  {
   "cell_type": "code",
   "execution_count": 2,
   "id": "1972a7a2",
   "metadata": {},
   "outputs": [],
   "source": [
    "start=time.time()"
   ]
  },
  {
   "cell_type": "markdown",
   "id": "df73607c",
   "metadata": {},
   "source": [
    "## Extracción de datos del archivo Senalfiltrada.xlsx"
   ]
  },
  {
   "cell_type": "code",
   "execution_count": 3,
   "id": "fd6c3f42",
   "metadata": {},
   "outputs": [],
   "source": [
    "Datosfil= pd.read_excel('Senalfiltrada.xlsx')\n",
    "Estadistica = Datosfil.describe()\n",
    "Estadistica\n",
    "Estadistica = Estadistica.values\n",
    "Datosfilval= Datosfil.values\n",
    "Tiempo = Datosfilval[:,0] \n",
    "BPM = Datosfilval[:,2]\n",
    "BPMfilter = Datosfilval[:,3]\n",
    "BPMfil_min = Estadistica [3,3]\n",
    "BPMfil_max = Estadistica [7,3]\n",
    "count = int(Estadistica [0,0])"
   ]
  },
  {
   "cell_type": "markdown",
   "id": "d29cbb22",
   "metadata": {},
   "source": [
    "## Codificación de datos filtrados"
   ]
  },
  {
   "cell_type": "markdown",
   "id": "9d7b2b4a",
   "metadata": {},
   "source": [
    "Se codifican los datos ya filtrados con una cantidad de ocho bits, esto se hace obteniendo el valor en binario de cada dato, eliminando su parte fraccionaria.\n",
    "Se guardan los códigos en en el archivo de excel llamado Senalcodificada.xlsx."
   ]
  },
  {
   "cell_type": "code",
   "execution_count": 4,
   "id": "0d5ea6fa",
   "metadata": {},
   "outputs": [
    {
     "data": {
      "text/plain": [
       "'01011010010110100101101101011100010111000101111001011110010111110101111101100000011000100110001101100100011001010110010101100101011001100110011101101001011010100110101001101011011010110110110001101101011011010110111001101111011100000111000001110000011100010111000101110010011100110111010001110100011101100111011001110111011110000111100001111001011110010111101001111010011110110111101001111011011111000111110101111110011111100111111110000000100000011000000010000010100000101000001110000100100001101000011110001001100010101000101110001100100011011000111010001110100011111001000010010001100100111001010010010101100101101001011110011000100110001001100110011011100111001001110010011101100111101010000010100010101000111010001110100100101000111010001010100000100111111001110110011011100110011001100010010110100101001001001010010000100011111000111010001101100010111000100110000111100001101000011010000101100001001000001110000011100000111000000110000000100000001000000010000000011111110111111101111111011111100111110001111100'"
      ]
     },
     "execution_count": 4,
     "metadata": {},
     "output_type": "execute_result"
    }
   ],
   "source": [
    "resolucion = 8\n",
    "databin =[]\n",
    "#print('BPM filtrado', '   \\t', 'Datos codificados')\n",
    "for i in range(count):\n",
    "    databinaux = format(int(BPMfilter[i]), \"b\")\n",
    "    largo = len(databinaux)\n",
    "    rango=resolucion-largo\n",
    "    binario =[]\n",
    "    for j in range(rango):\n",
    "        binario.append('0')\n",
    "    binario.append(databinaux)\n",
    "    sep = ''\n",
    "    cadena=sep.join(binario)\n",
    "    databinaux = cadena\n",
    "    databin.append(databinaux)\n",
    "\n",
    "    #print(BPMfilter[i],'    \\t', databin[i])\n",
    "codigo=sep.join(databin)\n",
    "Datosfil['Codifificación'] = databin\n",
    "Datosfil.to_excel('Senalcodificada.xlsx', sheet_name='Codigo')\n",
    "\n",
    "sep = ''\n",
    "cadena2=sep.join(databin)\n",
    "f = open ('Codigooriginal.txt','w')\n",
    "f.write(cadena2)\n",
    "f.close()\n",
    "cadena2"
   ]
  },
  {
   "cell_type": "markdown",
   "id": "0a511209",
   "metadata": {},
   "source": [
    "## Codificación Hamming para detección de errores"
   ]
  },
  {
   "cell_type": "markdown",
   "id": "5d113517",
   "metadata": {},
   "source": [
    "Se tiene la codificación Hamming (7,4) y (15,11) donde la cantidad de bits de paridad son de 3 y 4 bits respectivamente.\n",
    "Los datos en codificación Hamming se almacenan en el archivo Hammingcode.xlsx."
   ]
  },
  {
   "cell_type": "code",
   "execution_count": 5,
   "id": "afd629a1",
   "metadata": {
    "scrolled": false
   },
   "outputs": [
    {
     "name": "stdout",
     "output_type": "stream",
     "text": [
      "Datos en codigo Hamming\n",
      "010110100011001110100100111011110101111000001101110000100100111001001110101001011101101111011111011101011000011000011000011000111010111001000101000100010110011010011110010100110000011001100011110101101000100101101010011100111010011011011110011010101010100011000111010111010110101010010110111010111011111101101001000001110010000101110000001111001001011100001110011100100010100100110101100111000111011000010111011010111101011001101010101101111010001100111000011110111001011101000101011110110010111110100101110000110111100100011111101100110111110001101111010101111101000110111110011111100111100000000000100000011101010000001010000010101000000101111000001101001000010010000010111010000101110011001001110001101010100001010111100011010100000011011000011100101000111100101000111101000100000010011001000110010011111010010100110011010101100100111000100101101100001110001010110000001001110010100001101101001110110010011111010010011100111001011110110100011000101000010011101000111100101000111011000101001010000111110010001001011010000010011111100110011110110010011011110011101001100111001011100101100101010101001010101010101001010000111000111101000011111010000111000110001011111011001001110001010111100000110011100001110100010001011010001111001000010111101000001101001000001110010000010110000000011000000000110000001000100010001000011111101011110111110101111101110111101101000111110010110111110000000000001\n"
     ]
    }
   ],
   "source": [
    "hammingn = 15\n",
    "hammingk= 11\n",
    "disham = hammingn - hammingk\n",
    "p = 0\n",
    "i = 0\n",
    "codigoham = []\n",
    "print('Datos en codigo Hamming')\n",
    "while i < len(codigo):\n",
    "    arrayham =[]\n",
    "    if len(codigo[i:i+hammingk]) < hammingk:\n",
    "        for j in range(hammingk - len(codigo[i:i+hammingk])):\n",
    "            codigo = codigo + '0'\n",
    "    if hammingn == 15:    \n",
    "        p1 = int(codigo[i])^int(codigo[i+2])^int(codigo[i+4])^int(codigo[i+6])^int(codigo[i+7])^int(codigo[i+9])^int(codigo[i+10])\n",
    "        p2 = int(codigo[i])^int(codigo[i+1])^int(codigo[i+4])^int(codigo[i+5])^int(codigo[i+7])^int(codigo[i+8])^int(codigo[i+10])\n",
    "        p3 = int(codigo[i])^int(codigo[i+1])^int(codigo[i+2])^int(codigo[i+3])^int(codigo[i+7])^int(codigo[i+8])^int(codigo[i+9])\n",
    "        p4 = int(codigo[i])^int(codigo[i+1])^int(codigo[i+2])^int(codigo[i+3])^int(codigo[i+4])^int(codigo[i+5])^int(codigo[i+6])\n",
    "        arrayham.append(codigo[i:i+7])\n",
    "        arrayham.append(str(p4))\n",
    "        arrayham.append(codigo[i+7:i+10])\n",
    "        arrayham.append(str(p3))\n",
    "        arrayham.append(codigo[i+10])\n",
    "        arrayham.append(str(p2))\n",
    "        arrayham.append(str(p1))\n",
    "        i += 11\n",
    "    else:\n",
    "        p1 = int(codigo[i])^int(codigo[i+2])^int(codigo[i+3])\n",
    "        p2 = int(codigo[i])^int(codigo[i+1])^int(codigo[i+3])\n",
    "        p3 = int(codigo[i])^int(codigo[i+1])^int(codigo[i+2])\n",
    "        arrayham.append(codigo[i:i+3])\n",
    "        arrayham.append(str(p3))\n",
    "        arrayham.append(codigo[i+3])\n",
    "        arrayham.append(str(p2))\n",
    "        arrayham.append(str(p1))\n",
    "        i += 4\n",
    "    aux=sep.join(arrayham)\n",
    "    codigoham.append(aux)\n",
    "\n",
    "cod=''    \n",
    "for p in range(len(codigoham)):\n",
    "    cod += (codigoham[p]);\n",
    "print(cod)\n",
    "\n",
    "f = open ('Codigocompleto.txt','w')\n",
    "f.write(cod)\n",
    "f.close()\n",
    "\n",
    "df = pd.DataFrame({'Codificacion Hamming': codigoham})\n",
    "writer = ExcelWriter('Hammingcode.xlsx')\n",
    "df.to_excel(writer, 'Hamming', index=False)\n",
    "writer.save()"
   ]
  },
  {
   "cell_type": "markdown",
   "id": "499d6e9a",
   "metadata": {},
   "source": [
    "## Finalización del conteo de tiempo de ejecución"
   ]
  },
  {
   "cell_type": "code",
   "execution_count": 6,
   "id": "62513f67",
   "metadata": {},
   "outputs": [
    {
     "name": "stdout",
     "output_type": "stream",
     "text": [
      "\n",
      " Tiempo de ejecucion 0.6360442638397217\n"
     ]
    }
   ],
   "source": [
    "end = time.time()\n",
    "print('\\n Tiempo de ejecucion', end-start)"
   ]
  }
 ],
 "metadata": {
  "kernelspec": {
   "display_name": "Python 3",
   "language": "python",
   "name": "python3"
  },
  "language_info": {
   "codemirror_mode": {
    "name": "ipython",
    "version": 3
   },
   "file_extension": ".py",
   "mimetype": "text/x-python",
   "name": "python",
   "nbconvert_exporter": "python",
   "pygments_lexer": "ipython3",
   "version": "3.8.8"
  }
 },
 "nbformat": 4,
 "nbformat_minor": 5
}
